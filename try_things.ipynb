{
 "cells": [
  {
   "cell_type": "code",
   "execution_count": 1,
   "metadata": {},
   "outputs": [
    {
     "data": {
      "text/plain": [
       "True"
      ]
     },
     "execution_count": 1,
     "metadata": {},
     "output_type": "execute_result"
    }
   ],
   "source": [
    "import requests as rq\n",
    "from bs4 import BeautifulSoup\n",
    "import os\n",
    "\n",
    "from selenium.webdriver.support.ui import WebDriverWait\n",
    "from selenium.webdriver.support import expected_conditions as EC\n",
    "from selenium import webdriver\n",
    "from selenium.webdriver.chrome.service import Service\n",
    "from selenium.webdriver.support.ui import WebDriverWait\n",
    "from selenium.webdriver.support import expected_conditions as EC\n",
    "from selenium.webdriver.common.by import By\n",
    "from webdriver_manager.chrome import ChromeDriverManager\n",
    "from dotenv import load_dotenv\n",
    "import time\n",
    "\n",
    "load_dotenv()"
   ]
  },
  {
   "cell_type": "code",
   "execution_count": 2,
   "metadata": {},
   "outputs": [],
   "source": [
    "# Set up the Chrome WebDriver\n",
    "service = Service(ChromeDriverManager().install())\n",
    "driver = webdriver.Chrome(service=service)\n",
    "\n",
    "# Define the URL of the webpage you want to fetch\n",
    "url = 'https://my.uscsport.nl/pages/login'\n",
    "\n",
    "# Open the webpage using Selenium\n",
    "driver.get(url)\n"
   ]
  },
  {
   "cell_type": "code",
   "execution_count": 3,
   "metadata": {},
   "outputs": [
    {
     "name": "stdout",
     "output_type": "stream",
     "text": [
      "Button clicked successfully!\n"
     ]
    }
   ],
   "source": [
    "# Wait up to 10 seconds for the button to become clickable\n",
    "try:\n",
    "    wait = WebDriverWait(driver, 10)\n",
    "    button = wait.until(EC.element_to_be_clickable((By.CSS_SELECTOR, 'button[data-test-id=\"oidc-login-button\"]')))\n",
    "    button.click()\n",
    "    print(\"Button clicked successfully!\")\n",
    "except Exception as e:\n",
    "    print(f\"An error occurred: {e}\")\n"
   ]
  },
  {
   "cell_type": "code",
   "execution_count": 4,
   "metadata": {},
   "outputs": [
    {
     "name": "stdout",
     "output_type": "stream",
     "text": [
      "Button clicked successfully!\n"
     ]
    }
   ],
   "source": [
    "# Wait up to 10 seconds for the button to become clickable\n",
    "try:\n",
    "    wait = WebDriverWait(driver, 10)\n",
    "    div = wait.until(EC.element_to_be_clickable((By.CSS_SELECTOR, 'li[data-title=\"universiteit van amsterdam\"]')))\n",
    "    div.click()\n",
    "    print(\"Button clicked successfully!\")\n",
    "except Exception as e:\n",
    "    print(f\"An error occurred: {e}\")\n",
    "\n",
    "time.sleep(5)\n"
   ]
  },
  {
   "cell_type": "code",
   "execution_count": 5,
   "metadata": {},
   "outputs": [
    {
     "name": "stdout",
     "output_type": "stream",
     "text": [
      "Form submitted successfully!\n"
     ]
    }
   ],
   "source": [
    "try:\n",
    "    # Wait for the username field to be present and fill it in\n",
    "    WebDriverWait(driver, 10).until(\n",
    "        EC.presence_of_element_located((By.CSS_SELECTOR, 'input[id=\"userNameInput\"]'))\n",
    "    ).send_keys(os.environ['UVA_USERNAME'])\n",
    "    \n",
    "    # Wait for the password field to be present and fill it in\n",
    "    WebDriverWait(driver, 10).until(\n",
    "        EC.presence_of_element_located((By.CSS_SELECTOR, 'input[id=\"passwordInput\"]'))\n",
    "    ).send_keys(os.environ['UVA_PASSWORD'])\n",
    "    \n",
    "    # Find and click the submit button\n",
    "    submit_button = WebDriverWait(driver, 10).until(\n",
    "        EC.element_to_be_clickable((By.CSS_SELECTOR, 'span[id=\"submitButton\"]'))\n",
    "    )\n",
    "    submit_button.click()\n",
    "    \n",
    "    print(\"Form submitted successfully!\")\n",
    "except Exception as e:\n",
    "    print(f\"An error occurred: {e}\")\n"
   ]
  },
  {
   "cell_type": "code",
   "execution_count": 8,
   "metadata": {},
   "outputs": [],
   "source": [
    "try:\n",
    "    dropdown = WebDriverWait(driver, 10).until(\n",
    "        EC.element_to_be_clickable((By.CSS_SELECTOR, 'i[class=\"fas fa-chevron-down text-primary\"]'))\n",
    "    )\n",
    "    dropdown.click()\n",
    "\n",
    "    # Find the div containing both input and label\n",
    "    sports_element = WebDriverWait(driver, 10).until(\n",
    "        EC.presence_of_element_located((By.XPATH, '//li[label[text()=\"Schermen\"]]'))\n",
    "    )\n",
    "    \n",
    "    # Find the input box inside the div\n",
    "    input_box = sports_element.find_element(By.TAG_NAME, 'input')\n",
    "    \n",
    "    # Click the input box\n",
    "    input_box.click()\n",
    "    dropdown.click()\n",
    "\n",
    "except Exception as e:\n",
    "    print(f\"An error occured {e}\")"
   ]
  },
  {
   "cell_type": "code",
   "execution_count": null,
   "metadata": {},
   "outputs": [],
   "source": [
    "days_ahead = 0\n",
    "\n",
    "try:\n",
    "    while days_ahead < 7:\n",
    "        days = WebDriverWait(driver, 10)\n",
    "        \n"
   ]
  },
  {
   "cell_type": "code",
   "execution_count": null,
   "metadata": {},
   "outputs": [],
   "source": []
  },
  {
   "cell_type": "code",
   "execution_count": 9,
   "metadata": {},
   "outputs": [],
   "source": [
    "html_content = driver.page_source\n",
    "\n",
    "# Define the filename for the HTML file\n",
    "filename = 'webpage_selenium.html'\n",
    "\n",
    "# Write the HTML content to a file\n",
    "with open(filename, 'w', encoding='utf-8') as file:\n",
    "    file.write(html_content)"
   ]
  },
  {
   "cell_type": "code",
   "execution_count": null,
   "metadata": {},
   "outputs": [],
   "source": []
  },
  {
   "cell_type": "code",
   "execution_count": 46,
   "metadata": {},
   "outputs": [],
   "source": [
    "driver.quit()"
   ]
  },
  {
   "cell_type": "code",
   "execution_count": null,
   "metadata": {},
   "outputs": [],
   "source": []
  }
 ],
 "metadata": {
  "interpreter": {
   "hash": "29f1e52c0d8d5e5ede6aaca4be8238d35b46afd62a3b8286547e2768de775769"
  },
  "kernelspec": {
   "display_name": "Python 3.11.7 64-bit",
   "language": "python",
   "name": "python3"
  },
  "language_info": {
   "codemirror_mode": {
    "name": "ipython",
    "version": 3
   },
   "file_extension": ".py",
   "mimetype": "text/x-python",
   "name": "python",
   "nbconvert_exporter": "python",
   "pygments_lexer": "ipython3",
   "version": "3.10.9"
  },
  "orig_nbformat": 4
 },
 "nbformat": 4,
 "nbformat_minor": 2
}
